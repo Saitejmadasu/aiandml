{
 "cells": [
  {
   "cell_type": "code",
   "execution_count": null,
   "metadata": {},
   "outputs": [],
   "source": [
    "CSE-221710313032-M.Saitej"
   ]
  },
  {
   "cell_type": "code",
   "execution_count": 1,
   "metadata": {},
   "outputs": [
    {
     "name": "stdout",
     "output_type": "stream",
     "text": [
      "Please Enter Your Own String : saitej\n",
      "Total Number of Vowels in this String =  3\n",
      "Total Number of Consonants in this String =  3\n",
      "Total Number of special in this String =  0\n"
     ]
    }
   ],
   "source": [
    "#1\n",
    "str1 = input(\"Please Enter Your Own String : \")\n",
    "vowels = 0\n",
    "consonants = 0\n",
    "special = 0\n",
    "\n",
    "for i in str1:\n",
    "    if ( (i >= 'a' and i <= 'z') or (i >= 'A' and i <= 'Z') ):\n",
    "        if(i == 'a' or i == 'e' or i == 'i' or i == 'o' or i == 'u'or i == 'A' or i == 'E' or i == 'I' or i == 'O' or i == 'U'):\n",
    "            vowels = vowels + 1\n",
    "        else:\n",
    "            consonants = consonants + 1\n",
    "    else:\n",
    "        special = special + 1\n",
    " \n",
    "print(\"Total Number of Vowels in this String = \", vowels)\n",
    "print(\"Total Number of Consonants in this String = \", consonants)\n",
    "print(\"Total Number of special in this String = \", special)"
   ]
  },
  {
   "cell_type": "code",
   "execution_count": 2,
   "metadata": {},
   "outputs": [
    {
     "name": "stdout",
     "output_type": "stream",
     "text": [
      "2\n"
     ]
    }
   ],
   "source": [
    "#2\n",
    "str=\"abbaaccbbaaa\"\n",
    "print(str.count(\"aa\"))"
   ]
  },
  {
   "cell_type": "code",
   "execution_count": 3,
   "metadata": {},
   "outputs": [
    {
     "name": "stdout",
     "output_type": "stream",
     "text": [
      "enter((((()))))\n",
      "5\n"
     ]
    }
   ],
   "source": [
    "#3\n",
    "str=input(\"enter\")\n",
    "print(str.count(\")\"))"
   ]
  },
  {
   "cell_type": "code",
   "execution_count": 5,
   "metadata": {},
   "outputs": [
    {
     "name": "stdout",
     "output_type": "stream",
     "text": [
      "enter a value n:33\n",
      "enter a value m:22\n",
      "0\n"
     ]
    }
   ],
   "source": [
    "#4\n",
    "count = 0\n",
    "n = int(input(\"enter a value n:\"))\n",
    "m = int(input(\"enter a value m:\"))\n",
    "for i in range(n,m):\n",
    "    if str(i) == str(i)[::-1]:\n",
    "        count += 1\n",
    "print(count)"
   ]
  },
  {
   "cell_type": "code",
   "execution_count": 1,
   "metadata": {},
   "outputs": [
    {
     "name": "stdout",
     "output_type": "stream",
     "text": [
      "enter a number858\n",
      "the given string is palindrome\n"
     ]
    }
   ],
   "source": [
    "#5\n",
    "n = int(input(\"enter a number\"))\n",
    "if str(n) == str(n)[::-1]:\n",
    "    print(\"the given string is palindrome\")\n",
    "else:\n",
    "    print(\"The given string is not palindrome\")"
   ]
  },
  {
   "cell_type": "code",
   "execution_count": 2,
   "metadata": {},
   "outputs": [
    {
     "name": "stdout",
     "output_type": "stream",
     "text": [
      "848\n"
     ]
    }
   ],
   "source": [
    "def rev_number(n):\n",
    "  s = 0\n",
    "  while True:\n",
    "    k = str(n)\n",
    "    if k == k[::-1]:\n",
    "      break\n",
    "    else:\n",
    "      m = int(k[::-1])\n",
    "      n += m\n",
    "      s += 1\n",
    "  return n \n",
    "\n",
    "print(rev_number(127))"
   ]
  },
  {
   "cell_type": "code",
   "execution_count": 3,
   "metadata": {},
   "outputs": [
    {
     "name": "stdout",
     "output_type": "stream",
     "text": [
      "enter stringorange\n",
      "puboif"
     ]
    }
   ],
   "source": [
    "#6\n",
    "s=str(input('enter string'))\n",
    "vowel=['a','e','i','o','u']\n",
    "for i in s:\n",
    "    if i in vowel:\n",
    "        print(chr(ord(i)+1),end='')\n",
    "    elif (ord(i)>65 and ord(i)<69) or(ord(i)>97 and ord(i)<101):\n",
    "        print('e',end='')\n",
    "    elif (ord(i)>69 and ord(i)<73) or(ord(i)>101 and ord(i)<105):\n",
    "        print('i',end='')\n",
    "    elif (ord(i)>73 and ord(i)<79) or(ord(i)>105 and ord(i)<111):\n",
    "        print('o',end='')    \n",
    "    elif (ord(i)>79 and ord(i)<85) or(ord(i)>111 and ord(i)<117):\n",
    "        print('u',end='')\n",
    "    elif (ord(i)>85 and ord(i)<90) or(odr(i)>117 and ord(i)<122):\n",
    "        print('a',end='')"
   ]
  },
  {
   "cell_type": "code",
   "execution_count": 4,
   "metadata": {},
   "outputs": [
    {
     "name": "stdout",
     "output_type": "stream",
     "text": [
      "21\n"
     ]
    }
   ],
   "source": [
    "#7\n",
    "def sum_digits_string(str1):\n",
    "    sum_digit = 0\n",
    "    for x in str1:\n",
    "        if x.isdigit() == True:\n",
    "            z = int(x)\n",
    "            sum_digit = sum_digit + z\n",
    "\n",
    "    return sum_digit\n",
    "     \n",
    "print(sum_digits_string(\"Appli123cation456 \"))"
   ]
  },
  {
   "cell_type": "code",
   "execution_count": 5,
   "metadata": {},
   "outputs": [
    {
     "name": "stdout",
     "output_type": "stream",
     "text": [
      "Enter score between 0.0 and 1.0: 0.6\n",
      "D\n"
     ]
    }
   ],
   "source": [
    "#8\n",
    "score = float(input(\"Enter score between 0.0 and 1.0: \"))\n",
    "if score>1.0 or score<0.0 :\n",
    "\tprint(error)\n",
    "elif score>=0.9 :\n",
    "  \tprint('A')\n",
    "elif score>=0.8 :\n",
    "    print('B')\n",
    "elif score>=0.7 :\n",
    "    print('C')\n",
    "elif score>=0.6 :\n",
    "    print('D')\n",
    "else :\n",
    "    print('F')"
   ]
  },
  {
   "cell_type": "code",
   "execution_count": 6,
   "metadata": {},
   "outputs": [
    {
     "name": "stdout",
     "output_type": "stream",
     "text": [
      "fizzbuzz\n",
      "1\n",
      "2\n",
      "fizz\n",
      "4\n",
      "buzz\n",
      "fizz\n",
      "7\n",
      "8\n",
      "fizz\n",
      "buzz\n",
      "11\n",
      "fizz\n",
      "13\n",
      "14\n",
      "fizzbuzz\n",
      "16\n",
      "17\n",
      "fizz\n",
      "19\n",
      "buzz\n",
      "fizz\n",
      "22\n",
      "23\n",
      "fizz\n",
      "buzz\n",
      "26\n",
      "fizz\n",
      "28\n",
      "29\n",
      "fizzbuzz\n",
      "31\n",
      "32\n",
      "fizz\n",
      "34\n",
      "buzz\n",
      "fizz\n",
      "37\n",
      "38\n",
      "fizz\n",
      "buzz\n",
      "41\n",
      "fizz\n",
      "43\n",
      "44\n",
      "fizzbuzz\n",
      "46\n",
      "47\n",
      "fizz\n",
      "49\n",
      "buzz\n"
     ]
    }
   ],
   "source": [
    "#9\n",
    "for fizzbuzz in range(51):\n",
    "    if fizzbuzz % 3 == 0 and fizzbuzz % 5 == 0:\n",
    "        print(\"fizzbuzz\")\n",
    "        continue\n",
    "    elif fizzbuzz % 3 == 0:\n",
    "        print(\"fizz\")\n",
    "        continue\n",
    "    elif fizzbuzz % 5 == 0:\n",
    "        print(\"buzz\")\n",
    "        continue\n",
    "    print(fizzbuzz)"
   ]
  },
  {
   "cell_type": "code",
   "execution_count": 7,
   "metadata": {},
   "outputs": [
    {
     "name": "stdout",
     "output_type": "stream",
     "text": [
      "Input first number: 23\n",
      "Input second number: 23\n",
      "Input third number: 22\n",
      "The median is 23.0\n"
     ]
    }
   ],
   "source": [
    "#10\n",
    "a = float(input(\"Input first number: \"))\n",
    "b = float(input(\"Input second number: \"))\n",
    "c = float(input(\"Input third number: \"))\n",
    "if a > b:\n",
    "    if a < c:\n",
    "        median = a\n",
    "    elif b > c:\n",
    "        median = b\n",
    "    else:\n",
    "        median = c\n",
    "else:\n",
    "    if a > c:\n",
    "        median = a\n",
    "    elif b < c:\n",
    "        median = b\n",
    "    else:\n",
    "        median = c\n",
    "\n",
    "print(\"The median is\", median)"
   ]
  }
 ],
 "metadata": {
  "kernelspec": {
   "display_name": "Python 3",
   "language": "python",
   "name": "python3"
  },
  "language_info": {
   "codemirror_mode": {
    "name": "ipython",
    "version": 3
   },
   "file_extension": ".py",
   "mimetype": "text/x-python",
   "name": "python",
   "nbconvert_exporter": "python",
   "pygments_lexer": "ipython3",
   "version": "3.7.6"
  }
 },
 "nbformat": 4,
 "nbformat_minor": 4
}
